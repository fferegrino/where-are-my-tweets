{
 "cells": [
  {
   "cell_type": "code",
   "execution_count": 154,
   "metadata": {
    "collapsed": true
   },
   "outputs": [],
   "source": [
    "from bs4 import BeautifulSoup\n",
    "from pymongo import MongoClient\n",
    "import numpy as np\n",
    "import datetime\n",
    "import math\n",
    "\n",
    "def date_ms(timestamp):\n",
    "    return datetime.datetime.utcfromtimestamp(timestamp).strftime('%Y-%m-%d %H:%M:%S')\n",
    "\n",
    "\n",
    "def find_boundaries(timestamp):\n",
    "    first = math.floor(timestamp / 86400) * 86400\n",
    "    second = first + ((24 * 60 * 60) - 1)\n",
    "    return first, second"
   ]
  },
  {
   "cell_type": "code",
   "execution_count": 155,
   "metadata": {
    "collapsed": true
   },
   "outputs": [],
   "source": [
    "client = MongoClient('localhost', 27017)\n",
    "db = client['twitter_db']\n",
    "collection = db['twitter_bitcoin']"
   ]
  },
  {
   "cell_type": "code",
   "execution_count": 156,
   "metadata": {},
   "outputs": [],
   "source": [
    "oldest_tweet = collection.find().sort([('timestamp', 1)]).limit(1)[0]\n",
    "newest_tweet = collection.find().sort([('timestamp', -1)]).limit(1)[0]"
   ]
  },
  {
   "cell_type": "code",
   "execution_count": 165,
   "metadata": {},
   "outputs": [
    {
     "ename": "IndentationError",
     "evalue": "unexpected indent (<ipython-input-165-e1b53ce5bd88>, line 7)",
     "traceback": [
      "\u001b[0;36m  File \u001b[0;32m\"<ipython-input-165-e1b53ce5bd88>\"\u001b[0;36m, line \u001b[0;32m7\u001b[0m\n\u001b[0;31m    tweets= collection.find({\u001b[0m\n\u001b[0m    ^\u001b[0m\n\u001b[0;31mIndentationError\u001b[0m\u001b[0;31m:\u001b[0m unexpected indent\n"
     ],
     "output_type": "error"
    }
   ],
   "source": [
    "hashtag = \"twitter-hashtag\"\n",
    "atreply = \"twitter-atreply\"\n",
    "cashtag = \"twitter-cashtag\"\n",
    "link = \"twitter-timeline-link\"\n",
    "\n",
    "\n",
    "    tweets= collection.find({\n",
    "        \"timestamp\": { \"$gte\": start_start, \"$lte\": start_end}}).sort([('timestamp', 1)])"
   ]
  },
  {
   "cell_type": "code",
   "execution_count": 168,
   "metadata": {},
   "outputs": [
    {
     "ename": "NameError",
     "evalue": "name 'np' is not defined",
     "traceback": [
      "\u001b[0;31m---------------------------------------------------------------------------\u001b[0m",
      "\u001b[0;31mNameError\u001b[0m                                 Traceback (most recent call last)",
      "\u001b[0;32m<ipython-input-168-fd1f8a988789>\u001b[0m in \u001b[0;36m<module>\u001b[0;34m()\u001b[0m\n\u001b[1;32m     14\u001b[0m     ])\n\u001b[1;32m     15\u001b[0m     \u001b[0mstart_start\u001b[0m\u001b[0;34m,\u001b[0m \u001b[0mstart_end\u001b[0m \u001b[0;34m=\u001b[0m \u001b[0mfind_boundaries\u001b[0m\u001b[0;34m(\u001b[0m\u001b[0mstart_end\u001b[0m \u001b[0;34m+\u001b[0m \u001b[0;36m1\u001b[0m\u001b[0;34m)\u001b[0m\u001b[0;34m\u001b[0m\u001b[0m\n\u001b[0;32m---> 16\u001b[0;31m \u001b[0maggregates\u001b[0m \u001b[0;34m=\u001b[0m \u001b[0mnp\u001b[0m\u001b[0;34m.\u001b[0m\u001b[0marray\u001b[0m\u001b[0;34m(\u001b[0m\u001b[0mdata\u001b[0m\u001b[0;34m)\u001b[0m\u001b[0;34m\u001b[0m\u001b[0m\n\u001b[0m\u001b[1;32m     17\u001b[0m \u001b[0mprint\u001b[0m\u001b[0;34m(\u001b[0m\u001b[0maggregates\u001b[0m\u001b[0;34m)\u001b[0m\u001b[0;34m\u001b[0m\u001b[0m\n",
      "\u001b[0;31mNameError\u001b[0m: name 'np' is not defined"
     ],
     "output_type": "error"
    }
   ],
   "source": [
    "start_start, start_end = find_boundaries(oldest_tweet[\"timestamp\"])\n",
    "end_start, end_end = find_boundaries(newest_tweet[\"timestamp\"])\n",
    "\n",
    "data = list()\n",
    "while start_start < end_end:\n",
    "    d = d+1\n",
    "\n",
    "    tweets= collection.find({\n",
    "        \"timestamp\": { \"$gte\": start_start, \"$lte\": start_end}}).sort([('timestamp', 1)])\n",
    "    tweets = list(tweets)\n",
    "    data.append([\n",
    "        start_start,\n",
    "        len(tweets)\n",
    "    ])\n",
    "    start_start, start_end = find_boundaries(start_end + 1)\n",
    "aggregates = np.array(data)\n",
    "print(aggregates)"
   ]
  },
  {
   "cell_type": "code",
   "execution_count": 134,
   "metadata": {},
   "outputs": [],
   "source": [
    "a = \"\"\"\n",
    "def find_in_text(haystack, needle, starting_point = 0):\n",
    "    start = haystack.index(needle, starting_point)\n",
    "    end = start + len(needle)\n",
    "    return start, end\n",
    "\n",
    "def find_mentions(tweet):\n",
    "    entities = []\n",
    "    tweet_text = tweet[\"tweetText\"]\n",
    "    soup = BeautifulSoup(tweet[\"rawHtml\"], \"lxml\")\n",
    "    _as = soup.select(\"a[class^=\"+ atreply +\"]\")\n",
    "    start, end = 0, 0\n",
    "    for a in _as:\n",
    "        entity_text = a.text\n",
    "        start, end = find_in_text(tweet_text, entity_text, end)\n",
    "        d = {\n",
    "            \"text\" : entity_text,\n",
    "            \"start\": start,\n",
    "            \"end\": end\n",
    "        }\n",
    "        entities.append(d)\n",
    "    return entities\n",
    "\n",
    "\n",
    "def find_hashtags(tweet):\n",
    "    entities = []\n",
    "    tweet_text = tweet[\"tweetText\"]\n",
    "    soup = BeautifulSoup(tweet[\"rawHtml\"], \"lxml\")\n",
    "    _as = soup.select(\"a[class^=\"+ hashtag +\"]\")\n",
    "    start, end = 0, 0\n",
    "    for a in _as:\n",
    "        entity_text = a.text\n",
    "        start, end = find_in_text(tweet_text, entity_text, end)\n",
    "        d = {\n",
    "            \"text\" : entity_text,\n",
    "            \"start\": start,\n",
    "            \"end\": end\n",
    "        }\n",
    "        entities.append(d)\n",
    "    return entities\n",
    "\n",
    "\n",
    "def find_cashtags(tweet):\n",
    "    entities = []\n",
    "    tweet_text = tweet[\"tweetText\"]\n",
    "    soup = BeautifulSoup(tweet[\"rawHtml\"], \"lxml\")\n",
    "    _as = soup.select(\"a[class^=\"+ cashtag +\"]\")\n",
    "    start, end = 0, 0\n",
    "    for a in _as:\n",
    "        entity_text = a.text\n",
    "        start, end = find_in_text(tweet_text, entity_text, end)\n",
    "        d = {\n",
    "            \"text\" : entity_text,\n",
    "            \"start\": start,\n",
    "            \"end\": end\n",
    "        }\n",
    "        entities.append(d)\n",
    "        print(a)\n",
    "    return entities\n",
    "\n",
    "\n",
    "def find_links(tweet):\n",
    "    entities = []\n",
    "    tweet_text = tweet[\"tweetText\"]\n",
    "    soup = BeautifulSoup(tweet[\"rawHtml\"], \"lxml\")\n",
    "    _as = soup.select(\"a[class^=\"+ link +\"]\")\n",
    "    start, end = 0, 0\n",
    "    for a in _as:\n",
    "        entity_text = a.text[:-1]\n",
    "        start, end = find_in_text(tweet_text, entity_text, end)\n",
    "        data_expanded_url = a[\"data-expanded-url\"]\n",
    "        d = {\n",
    "            \"text\" : entity_text,\n",
    "            \"data-expanded-url\": data_expanded_url,\n",
    "            \"start\": start,\n",
    "            \"end\": end\n",
    "        }\n",
    "        entities.append(d)\n",
    "    return entities\n",
    "\n",
    "for t in tweets[10:51]:\n",
    "    mentions = find_mentions(t)\n",
    "    hashtags = find_hashtags(t)\n",
    "    cashtags = find_cashtags(t)\n",
    "    links = find_links(t)\n",
    "\"\"\""
   ]
  },
  {
   "cell_type": "code",
   "execution_count": null,
   "metadata": {
    "collapsed": true
   },
   "outputs": [],
   "source": []
  },
  {
   "cell_type": "code",
   "execution_count": null,
   "metadata": {
    "collapsed": true
   },
   "outputs": [],
   "source": []
  },
  {
   "cell_type": "code",
   "execution_count": null,
   "metadata": {
    "collapsed": true
   },
   "outputs": [],
   "source": []
  }
 ],
 "metadata": {
  "kernelspec": {
   "display_name": "Python 3",
   "language": "python",
   "name": "python3"
  },
  "language_info": {
   "codemirror_mode": {
    "name": "ipython",
    "version": 3
   },
   "file_extension": ".py",
   "mimetype": "text/x-python",
   "name": "python",
   "nbconvert_exporter": "python",
   "pygments_lexer": "ipython3",
   "version": "3.6.1"
  }
 },
 "nbformat": 4,
 "nbformat_minor": 2
}
